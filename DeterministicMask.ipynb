{
  "nbformat": 4,
  "nbformat_minor": 0,
  "metadata": {
    "colab": {
      "provenance": [],
      "gpuType": "V28",
      "authorship_tag": "ABX9TyMfuvNmIbdKo3c+CGvy4GVH",
      "include_colab_link": true
    },
    "kernelspec": {
      "name": "python3",
      "display_name": "Python 3"
    },
    "language_info": {
      "name": "python"
    },
    "accelerator": "TPU"
  },
  "cells": [
    {
      "cell_type": "markdown",
      "metadata": {
        "id": "view-in-github",
        "colab_type": "text"
      },
      "source": [
        "<a href=\"https://colab.research.google.com/github/Fernsrea/OctoCarnival/blob/main/DeterministicMask.ipynb\" target=\"_parent\"><img src=\"https://colab.research.google.com/assets/colab-badge.svg\" alt=\"Open In Colab\"/></a>"
      ]
    },
    {
      "cell_type": "code",
      "execution_count": 3,
      "metadata": {
        "id": "LP43UyjtwQwj"
      },
      "outputs": [],
      "source": [
        "import torch\n",
        "from torchvision import datasets, transforms\n",
        "\n",
        "# Parameters\n",
        "mask_size = 8  # Size of the square mask\n",
        "image_size = 28\n",
        "\n",
        "# Create a deterministic center square mask\n",
        "def create_center_mask():\n",
        "    mask = torch.ones((image_size, image_size), dtype=torch.float32)\n",
        "    start = (image_size - mask_size) // 2\n",
        "    end = start + mask_size\n",
        "    mask[start:end, start:end] = 0.0\n",
        "    return mask\n",
        "\n",
        "# Load MNIST\n",
        "transform = transforms.ToTensor()\n",
        "mnist = datasets.MNIST(root='./data', train=True, download=True, transform=transform)\n",
        "\n",
        "# Apply mask to an image\n",
        "mask = create_center_mask()\n",
        "sample_image, _ = mnist[0]\n",
        "masked_image = sample_image.squeeze() * mask\n",
        "\n",
        "# masked_image now contains the image with a fixed square mask\n"
      ]
    },
    {
      "cell_type": "code",
      "source": [
        "import matplotlib.pyplot as plt\n",
        "\n",
        "# Sample image and mask application\n",
        "sample_image, _ = mnist[80]\n",
        "original = sample_image.squeeze()\n",
        "masked = original * mask\n",
        "\n",
        "# Plotting\n",
        "plt.figure(figsize=(6, 3))\n",
        "plt.subplot(1, 2, 1)\n",
        "plt.title(\"Original\")\n",
        "plt.imshow(original, cmap='gray')\n",
        "plt.axis('off')\n",
        "\n",
        "plt.subplot(1, 2, 2)\n",
        "plt.title(\"Masked\")\n",
        "plt.imshow(masked, cmap='gray')\n",
        "plt.axis('off')\n",
        "\n",
        "plt.tight_layout()\n",
        "plt.show()\n"
      ],
      "metadata": {
        "colab": {
          "base_uri": "https://localhost:8080/",
          "height": 316
        },
        "id": "p4uVjUXIxBx7",
        "outputId": "eacdce59-4eef-46da-9a40-b4d8a16a880f"
      },
      "execution_count": 6,
      "outputs": [
        {
          "output_type": "display_data",
          "data": {
            "text/plain": [
              "<Figure size 600x300 with 2 Axes>"
            ],
            "image/png": "[encoded data removed]"
          },
          "metadata": {}
        }
      ]
    }
  ]
}